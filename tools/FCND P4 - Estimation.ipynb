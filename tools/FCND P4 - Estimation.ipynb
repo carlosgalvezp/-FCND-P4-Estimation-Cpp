{
 "cells": [
  {
   "cell_type": "markdown",
   "metadata": {},
   "source": [
    "# 1. Sensor Noise"
   ]
  },
  {
   "cell_type": "code",
   "execution_count": 2,
   "metadata": {},
   "outputs": [],
   "source": [
    "import numpy as np"
   ]
  },
  {
   "cell_type": "code",
   "execution_count": 4,
   "metadata": {},
   "outputs": [
    {
     "name": "stdout",
     "output_type": "stream",
     "text": [
      "std for data ../config/log/Graph1.txt: 0.658928052232\n",
      "std for data ../config/log/Graph2.txt: 0.490257237601\n"
     ]
    }
   ],
   "source": [
    "paths = ['../config/log/Graph1.txt', '../config/log/Graph2.txt']\n",
    "\n",
    "for path in paths:\n",
    "    data = np.loadtxt(path, delimiter=',', skiprows=1)\n",
    "    std = np.std(data[:,1])\n",
    "    print('std for data {}: {}'.format(path, std))"
   ]
  },
  {
   "cell_type": "code",
   "execution_count": null,
   "metadata": {},
   "outputs": [],
   "source": []
  }
 ],
 "metadata": {
  "kernelspec": {
   "display_name": "Python 2",
   "language": "python",
   "name": "python2"
  },
  "language_info": {
   "codemirror_mode": {
    "name": "ipython",
    "version": 2
   },
   "file_extension": ".py",
   "mimetype": "text/x-python",
   "name": "python",
   "nbconvert_exporter": "python",
   "pygments_lexer": "ipython2",
   "version": "2.7.12"
  }
 },
 "nbformat": 4,
 "nbformat_minor": 2
}
